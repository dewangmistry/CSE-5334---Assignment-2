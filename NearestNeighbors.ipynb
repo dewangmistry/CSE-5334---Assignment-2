{
 "cells": [
  {
   "cell_type": "markdown",
   "metadata": {},
   "source": [
    "# PA 2: Classification - Nearest Neighbors"
   ]
  },
  {
   "cell_type": "markdown",
   "metadata": {},
   "source": [
    "## Student Details\n",
    "\n",
    "Notes: When submitting, fill your name and ID in this cell. [1 point]\n",
    "\n",
    "Do not to forget to cite any external sources used by you."
   ]
  },
  {
   "cell_type": "markdown",
   "metadata": {},
   "source": [
    "## Programming Assignment Submission Instructions\n",
    "\n",
    "\n",
    "Step 5: Rename this submission file as 'yourLastName_Last4digitsofyourID_NN.ipynb' [1 point]\n",
    "\n",
    "Step 6: Place this file inside the folder 'PA#2_Classification_yourLastName' [1 point]"
   ]
  },
  {
   "cell_type": "markdown",
   "metadata": {},
   "source": [
    "## Programming Assignment Details\n",
    "\n",
    "\n",
    "\n",
    "For this assignment use Jupyter notebook, Panda, and scikit.\n",
    "\n",
    "1) Load iris dataset from sklearn datasets. [0 points]\n",
    "\n",
    "\n",
    "2) Split your dataset 70% for training, and 30% for testing the classifier. [0 points]\n",
    "\n",
    "\n",
    "3) Select only 2 attributes for training and testing your model. [2 points]\n",
    "\n",
    "\n",
    "4) Use Euclidean distance. [1 points]\n",
    "\n",
    "\n",
    "5) Test the classifier with three diferent numbers for neighbors and record the results. [3 points]\n",
    "\n",
    "\n",
    "6) Use comments to explain your code and variable names.[2 points]\n",
    "\n",
    "\n",
    "7) Calculate and print the confusion matrix, and the classification Report (includes:precision, recall, f1-score, and support) for all three different numbers.[6 points]\n",
    "\n",
    "\n",
    "8) Plot the classifier in a 2D projection for all three different numbers.[6 points]"
   ]
  },
  {
   "cell_type": "markdown",
   "metadata": {},
   "source": [
    "## Report\n",
    "\n",
    "For each classification task you need to submit a report (Microsoft Word, or PDF) that you have to:\n",
    "\n",
    "\n",
    "1) Describe the Nearest Neighbors method, [3 points]\n",
    "\n",
    "\n",
    "2) Explain what was your criteria for selecting the two attributes, [4 points]\n",
    "\n",
    "\n",
    "3) Visualizations of the classifier in a 2D projection, for all three different number of neighbors,[4 points]\n",
    "\n",
    "\n",
    "4) Interprete and compare the results.[4 points]\n",
    "\n",
    "Do not to forget to cite your sources!\n",
    "\n",
    "\n",
    "Step 7: Save your report file as 'yourLastName_Last4digitsofyourID_NN.doc' [1 point]\n",
    "\n",
    "Step 8: Place this file inside the folder 'PA#2_Classification_yourLastName' [1 point]\n",
    "\n",
    "Step 9: Submit your zipped folder (PA#2_Classification_yourLastName.zip) on Canvas"
   ]
  },
  {
   "cell_type": "markdown",
   "metadata": {},
   "source": [
    "# - - - - - - - - - - - - - - - Solution - - - - - - - - - - - - - - - - - - "
   ]
  },
  {
   "cell_type": "code",
   "execution_count": 10,
   "metadata": {},
   "outputs": [],
   "source": [
    "import numpy as np\n",
    "import pandas as pd\n",
    "from sklearn.model_selection import train_test_split\n",
    "from sklearn.feature_selection import SelectKBest, chi2\n",
    "from sklearn.neighbors import KNeighborsClassifier\n",
    "from sklearn import neighbors, datasets , metrics   \n",
    "from sklearn.metrics import confusion_matrix\n",
    "from sklearn import tree\n",
    "from IPython.display import Image\n",
    "from sklearn.externals.six import StringIO\n",
    "from sklearn.tree import export_graphviz\n",
    "from matplotlib.colors import ListedColormap\n",
    "import matplotlib.pyplot as plt\n",
    "import pydotplus"
   ]
  },
  {
   "cell_type": "markdown",
   "metadata": {},
   "source": [
    "1) Load iris dataset from sklearn datasets. [0 points]"
   ]
  },
  {
   "cell_type": "code",
   "execution_count": 11,
   "metadata": {},
   "outputs": [
    {
     "data": {
      "text/plain": [
       "['sepal length (cm)',\n",
       " 'sepal width (cm)',\n",
       " 'petal length (cm)',\n",
       " 'petal width (cm)']"
      ]
     },
     "execution_count": 11,
     "metadata": {},
     "output_type": "execute_result"
    }
   ],
   "source": [
    "iris = datasets.load_iris()\n",
    "iris.feature_names"
   ]
  },
  {
   "cell_type": "markdown",
   "metadata": {},
   "source": [
    "2) Split your dataset 70% for training, and 30% for testing the classifier. [0 points]"
   ]
  },
  {
   "cell_type": "code",
   "execution_count": 12,
   "metadata": {},
   "outputs": [],
   "source": [
    "# splitting dataset for 70% training and 30% testing. x_train contains the data our model will use for training \n",
    "# and x_test contains data for testing. y_train conatins target variable for training and y_test set of target \n",
    "# variables for testing.\n",
    "\n",
    "x , y = iris.data, iris.target\n",
    "x_train, x_test, y_train, y_test = train_test_split(x, y, test_size = 0.3)"
   ]
  },
  {
   "cell_type": "markdown",
   "metadata": {},
   "source": [
    "3) Select only 2 attributes for training and testing your model. [2 points]"
   ]
  },
  {
   "cell_type": "code",
   "execution_count": 13,
   "metadata": {},
   "outputs": [],
   "source": [
    "# Performing chi2 test to select best 2 feature\n",
    "\n",
    "sel_chi2 = SelectKBest(chi2, k=2)    # select 2 features\n",
    "X_train_chi2 = sel_chi2.fit_transform(x_train, y_train)\n",
    "x_train = sel_chi2.transform(x_train)\n",
    "x_test = sel_chi2.transform(x_test)"
   ]
  },
  {
   "cell_type": "markdown",
   "metadata": {},
   "source": [
    "4) Use Euclidean distance. [1 points]\n",
    "\n",
    "5) Test the classifier with three diferent numbers for neighbors and record the results. [3 points]\n",
    "\n",
    "7) Calculate and print the confusion matrix, and the classification Report (includes:precision, recall, f1-score, and support) for all three different numbers.[6 points]"
   ]
  },
  {
   "cell_type": "code",
   "execution_count": 14,
   "metadata": {
    "scrolled": true
   },
   "outputs": [
    {
     "name": "stdout",
     "output_type": "stream",
     "text": [
      "[[18  0  0]\n",
      " [ 0 13  2]\n",
      " [ 0  0 12]]\n",
      "              precision    recall  f1-score   support\n",
      "\n",
      "           0       1.00      1.00      1.00        18\n",
      "           1       1.00      0.87      0.93        15\n",
      "           2       0.86      1.00      0.92        12\n",
      "\n",
      "    accuracy                           0.96        45\n",
      "   macro avg       0.95      0.96      0.95        45\n",
      "weighted avg       0.96      0.96      0.96        45\n",
      "\n",
      "[[18  0  0]\n",
      " [ 0 13  2]\n",
      " [ 0  0 12]]\n",
      "              precision    recall  f1-score   support\n",
      "\n",
      "           0       1.00      1.00      1.00        18\n",
      "           1       1.00      0.87      0.93        15\n",
      "           2       0.86      1.00      0.92        12\n",
      "\n",
      "    accuracy                           0.96        45\n",
      "   macro avg       0.95      0.96      0.95        45\n",
      "weighted avg       0.96      0.96      0.96        45\n",
      "\n",
      "[[18  0  0]\n",
      " [ 0 14  1]\n",
      " [ 0  2 10]]\n",
      "              precision    recall  f1-score   support\n",
      "\n",
      "           0       1.00      1.00      1.00        18\n",
      "           1       0.88      0.93      0.90        15\n",
      "           2       0.91      0.83      0.87        12\n",
      "\n",
      "    accuracy                           0.93        45\n",
      "   macro avg       0.93      0.92      0.92        45\n",
      "weighted avg       0.93      0.93      0.93        45\n",
      "\n"
     ]
    }
   ],
   "source": [
    "# KNN for 1 neighbors\n",
    "\n",
    "knn_1 = KNeighborsClassifier(n_neighbors=1, metric='euclidean')\n",
    "knn_1.fit(x_train, y_train)\n",
    "y_pred_1 = knn_1.predict(x_test)\n",
    "print(confusion_matrix(y_test,y_pred_1))\n",
    "print(metrics.classification_report(y_test, y_pred_1))\n",
    "\n",
    "\n",
    "# KNN for 5 neighbors\n",
    "\n",
    "knn_2 = KNeighborsClassifier(n_neighbors=5, metric='euclidean')\n",
    "knn_2.fit(x_train, y_train)\n",
    "y_pred_2 = knn_2.predict(x_test)\n",
    "print(confusion_matrix(y_test,y_pred_2))\n",
    "print(metrics.classification_report(y_test, y_pred_2))\n",
    "\n",
    "\n",
    "# KNN for 20 neighbors\n",
    "\n",
    "knn_3 = KNeighborsClassifier(n_neighbors=20, metric='euclidean')\n",
    "knn_3.fit(x_train, y_train)\n",
    "y_pred_3 = knn_3.predict(x_test)\n",
    "print(confusion_matrix(y_test,y_pred_3))\n",
    "print(metrics.classification_report(y_test, y_pred_3))"
   ]
  },
  {
   "cell_type": "markdown",
   "metadata": {},
   "source": [
    "8) Plot the classifier in a 2D projection for all three different numbers.[6 points]"
   ]
  },
  {
   "cell_type": "code",
   "execution_count": 15,
   "metadata": {},
   "outputs": [],
   "source": [
    "# Function to plot decision region of KNN classifier\n",
    "\n",
    "def plot_decision_regions(X, y, classifier, test_idx=None, resolution=0.02):\n",
    "\n",
    "    # setup marker generator and color map\n",
    "    markers = ('s', 'x', 'o', '^', 'v')\n",
    "    colors = ('red', 'blue', 'lightgreen', 'gray', 'cyan')\n",
    "    cmap = ListedColormap(colors[:len(np.unique(y))])\n",
    "\n",
    "    # plot the decision surface\n",
    "    x1_min, x1_max = X[:, 0].min() - 1, X[:, 0].max() + 1\n",
    "    x2_min, x2_max = X[:, 1].min() - 1, X[:, 1].max() + 1\n",
    "    xx1, xx2 = np.meshgrid(np.arange(x1_min, x1_max, resolution),\n",
    "                           np.arange(x2_min, x2_max, resolution))\n",
    "    Z = classifier.predict(np.array([xx1.ravel(), xx2.ravel()]).T)\n",
    "    Z = Z.reshape(xx1.shape)\n",
    "    plt.contourf(xx1, xx2, Z, alpha=0.4, cmap=cmap)\n",
    "    plt.xlim(xx1.min(), xx1.max())\n",
    "    plt.ylim(xx2.min(), xx2.max())\n",
    "\n",
    "    for idx, cl in enumerate(np.unique(y)):\n",
    "        plt.scatter(x=X[y == cl, 0], y=X[y == cl, 1],\n",
    "                    alpha=0.8,\n",
    "                    marker=markers[idx], label=cl)"
   ]
  },
  {
   "cell_type": "code",
   "execution_count": 16,
   "metadata": {},
   "outputs": [
    {
     "name": "stdout",
     "output_type": "stream",
     "text": [
      "KNN Plot for 1 neighbor\n"
     ]
    },
    {
     "data": {
      "image/png": "[encoded data removed]",
      "text/plain": [
       "<Figure size 432x288 with 1 Axes>"
      ]
     },
     "metadata": {
      "needs_background": "light"
     },
     "output_type": "display_data"
    }
   ],
   "source": [
    "print(\"KNN Plot for 1 neighbor\")\n",
    "plot_decision_regions(x_test, y_test, knn_1)"
   ]
  },
  {
   "cell_type": "code",
   "execution_count": 17,
   "metadata": {},
   "outputs": [
    {
     "name": "stdout",
     "output_type": "stream",
     "text": [
      "KNN Plot for 5 neighbor\n"
     ]
    },
    {
     "data": {
      "image/png": "[encoded data removed]",
      "text/plain": [
       "<Figure size 432x288 with 1 Axes>"
      ]
     },
     "metadata": {
      "needs_background": "light"
     },
     "output_type": "display_data"
    }
   ],
   "source": [
    "print(\"KNN Plot for 5 neighbor\")\n",
    "plot_decision_regions(x_test, y_test, knn_2)"
   ]
  },
  {
   "cell_type": "code",
   "execution_count": 18,
   "metadata": {
    "scrolled": true
   },
   "outputs": [
    {
     "name": "stdout",
     "output_type": "stream",
     "text": [
      "KNN Plot for 20 neighbor\n"
     ]
    },
    {
     "data": {
      "image/png": "[encoded data removed]",
      "text/plain": [
       "<Figure size 432x288 with 1 Axes>"
      ]
     },
     "metadata": {
      "needs_background": "light"
     },
     "output_type": "display_data"
    }
   ],
   "source": [
    "print(\"KNN Plot for 20 neighbor\")\n",
    "plot_decision_regions(x_test, y_test, knn_3)"
   ]
  },
  {
   "cell_type": "markdown",
   "metadata": {},
   "source": [
    "## Sources\n",
    "\n",
    "https://www.kaggle.com/mgabrielkerr/visualizing-knn-svm-and-xgboost-on-iris-dataset\n",
    "\n",
    "https://towardsdatascience.com/feature-selection-using-python-for-classification-problem-b5f00a1c7028\n",
    "\n",
    "https://scikit-learn.org/stable/supervised_learning.html#supervised-learning"
   ]
  }
 ],
 "metadata": {
  "kernelspec": {
   "display_name": "Python 3",
   "language": "python",
   "name": "python3"
  },
  "language_info": {
   "codemirror_mode": {
    "name": "ipython",
    "version": 3
   },
   "file_extension": ".py",
   "mimetype": "text/x-python",
   "name": "python",
   "nbconvert_exporter": "python",
   "pygments_lexer": "ipython3",
   "version": "3.8.2"
  }
 },
 "nbformat": 4,
 "nbformat_minor": 1
}
